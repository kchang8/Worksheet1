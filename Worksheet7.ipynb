{
  "nbformat": 4,
  "nbformat_minor": 0,
  "metadata": {
    "colab": {
      "name": "Worksheet7.ipynb",
      "provenance": []
    },
    "kernelspec": {
      "name": "python3",
      "display_name": "Python 3"
    }
  },
  "cells": [
    {
      "cell_type": "markdown",
      "metadata": {
        "id": "v23A9vZp-140",
        "colab_type": "text"
      },
      "source": [
        "# Question 1\n",
        "\n",
        "Given the variable, ``num = 1``, make a while loop that prints out the numbers 1-100. \n",
        "\n",
        "Once the loop is finished, print out ``\"Done!\"``"
      ]
    },
    {
      "cell_type": "code",
      "metadata": {
        "id": "VMCmYAQR-lmd",
        "colab_type": "code",
        "colab": {}
      },
      "source": [
        "num = 1\n",
        "# Write your code below\n"
      ],
      "execution_count": 0,
      "outputs": []
    },
    {
      "cell_type": "markdown",
      "metadata": {
        "id": "0a5BGk96AXh-",
        "colab_type": "text"
      },
      "source": [
        "# Question 3\n",
        "\n",
        "**Challenge:** Given the code below, complete the simple guessing game with a while loop that:\n",
        "\n",
        "*   Loops through the while loop if the user's guess is not equal to the answer\n",
        "*   Lets the user know their guessed number is wrong\n",
        "*   Lets them guess another number\n",
        "\n",
        "If they get the answer right the first time or if they guessed correctly, print out ``\"You got it right!\"``\n",
        "\n"
      ]
    },
    {
      "cell_type": "code",
      "metadata": {
        "id": "ziLUf-dzA4O4",
        "colab_type": "code",
        "colab": {}
      },
      "source": [
        "# Here's a little starter code\n",
        "answer = 4\n",
        "guess = int(input(\"Enter a number(1-10): \"))\n",
        "while (# PUT CODE HERE):\n",
        "  # Complete the code below\n",
        "  \n"
      ],
      "execution_count": 0,
      "outputs": []
    }
  ]
}