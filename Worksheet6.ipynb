{
  "nbformat": 4,
  "nbformat_minor": 0,
  "metadata": {
    "colab": {
      "name": "Worksheet6.ipynb",
      "provenance": []
    },
    "kernelspec": {
      "name": "python3",
      "display_name": "Python 3"
    }
  },
  "cells": [
    {
      "cell_type": "markdown",
      "metadata": {
        "id": "NwSlKr6Y05m7",
        "colab_type": "text"
      },
      "source": [
        "# Question 1\n",
        "\n",
        "Make a variable called ``age`` that gets the user's age.\n",
        "\n",
        "> Then check their entered age so that:\n",
        "\n",
        "*   If ``age`` is less than or equal to 12, print out **``You are a kid``**\n",
        "*   If ``age`` is between 13-19, print out **``You are a teenager``**\n",
        "*   Else, print out **``You are an adult``**\n",
        "\n",
        "\n",
        "\n",
        "\n",
        "\n",
        "\n"
      ]
    },
    {
      "cell_type": "code",
      "metadata": {
        "id": "pODMeY-hzdu-",
        "colab_type": "code",
        "colab": {}
      },
      "source": [
        ""
      ],
      "execution_count": 0,
      "outputs": []
    },
    {
      "cell_type": "markdown",
      "metadata": {
        "id": "YKk_uwNe2mwo",
        "colab_type": "text"
      },
      "source": [
        "# Question 2\n",
        "\n",
        "Make a variable called ``weather`` that gets the weather from the user.\n",
        "\n",
        "Then check ``weather`` so that if they put ``\"Yes\"`` or ``\"yes\"``, print out ``\"Let's get some ice cream\"``. \n",
        "\n",
        "Else, print out ``\"Stay indoors\"``\n",
        "\n",
        "Example output 1:\n",
        "```\n",
        "Is it sunny outside? Yes\n",
        "Let's get some ice cream\n",
        "```\n",
        "\n",
        "Example output 2:\n",
        "```\n",
        "Is it sunny outside? No\n",
        "Stay indoors\n",
        "```"
      ]
    },
    {
      "cell_type": "code",
      "metadata": {
        "id": "3CfZf5lk3sPI",
        "colab_type": "code",
        "colab": {}
      },
      "source": [
        ""
      ],
      "execution_count": 0,
      "outputs": []
    },
    {
      "cell_type": "markdown",
      "metadata": {
        "id": "HS1p_h3P3xxR",
        "colab_type": "text"
      },
      "source": [
        "# Question 3\n",
        "\n",
        "Below we have two menus: Food and Drinks.\n",
        "\n",
        "Food:\n",
        "\n",
        "*   Pizza - $1.00\n",
        "\n",
        "*   Hamburger - $1.50\n",
        "\n",
        "\n",
        "Drinks:\n",
        "\n",
        "*   Soda - $0.50\n",
        "\n",
        "*   Lemonade - $1.00\n",
        "\n",
        "Make a variables called ``menu`` that gets the user menu they want. Complete the code below to print the appropriate messages for each item.\n"
      ]
    },
    {
      "cell_type": "code",
      "metadata": {
        "id": "XCmWKgQZ6O6-",
        "colab_type": "code",
        "colab": {}
      },
      "source": [
        "print(\"Welcome to Python-restaurant\")\n",
        "print(\"FOOD\")\n",
        "print(\"   Pizza - $1.00\")\n",
        "print(\"   Hamburger - $1.50\")\n",
        "print(\"DRINKS\")\n",
        "print(\"   Soda - $0.50\")\n",
        "print(\"   Lemonade - $1.00\")\n",
        "print(\"Pick a menu: \")\n",
        "\n",
        "# Write the menu variable below here\n",
        "\n",
        "\n",
        "choice = input(\"What would you like? \")\n",
        "# Here's a little starter code for you to get started\n",
        "if(menu == \"Food\"):\n",
        "  if(choice == \"Pizza\"):\n",
        "    print(\"Pizza will cost you $1.00\")\n",
        "  "
      ],
      "execution_count": 0,
      "outputs": []
    }
  ]
}