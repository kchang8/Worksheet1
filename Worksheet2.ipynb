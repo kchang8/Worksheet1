{
  "nbformat": 4,
  "nbformat_minor": 0,
  "metadata": {
    "colab": {
      "name": "Worksheet2.ipynb",
      "provenance": [],
      "collapsed_sections": []
    },
    "kernelspec": {
      "name": "python3",
      "display_name": "Python 3"
    }
  },
  "cells": [
    {
      "cell_type": "markdown",
      "metadata": {
        "id": "2bvL4rmt0T13",
        "colab_type": "text"
      },
      "source": [
        "# Question 1\n",
        "\n",
        "Create the string variable called **`greeting`** and write out a few words that are like a greeting. \n",
        "\n",
        "ex.) `Hello`, `Hi`, or `Hi there`\n",
        "\n"
      ]
    },
    {
      "cell_type": "code",
      "metadata": {
        "id": "bhdU3dkC0OeH",
        "colab_type": "code",
        "colab": {}
      },
      "source": [
        ""
      ],
      "execution_count": 0,
      "outputs": []
    },
    {
      "cell_type": "markdown",
      "metadata": {
        "id": "3QKMVttD1ESs",
        "colab_type": "text"
      },
      "source": [
        "# Question 2\n",
        "Use the print function to print out the **`greeting`** variable"
      ]
    },
    {
      "cell_type": "code",
      "metadata": {
        "id": "_X5_JWp-1RCx",
        "colab_type": "code",
        "colab": {}
      },
      "source": [
        ""
      ],
      "execution_count": 0,
      "outputs": []
    },
    {
      "cell_type": "markdown",
      "metadata": {
        "id": "zS-k95nq1RPa",
        "colab_type": "text"
      },
      "source": [
        "# Question 3\n",
        "Create the string variables, **`firstName`** and **`lastName`**, and store your first name and last name in those variables\n"
      ]
    },
    {
      "cell_type": "code",
      "metadata": {
        "id": "pb1nUiK42ECq",
        "colab_type": "code",
        "colab": {}
      },
      "source": [
        ""
      ],
      "execution_count": 0,
      "outputs": []
    },
    {
      "cell_type": "markdown",
      "metadata": {
        "id": "03lVv80H8VoJ",
        "colab_type": "text"
      },
      "source": [
        "# Question 4A\n",
        "Put your **`firstName`** and **`lastName`** variables you made in question 3 into one variable called **`name`**. Make sure you put a space in between the variables.\n",
        "\n",
        "ex.) `John Doe`\n"
      ]
    },
    {
      "cell_type": "code",
      "metadata": {
        "id": "xBf4FsEv8vgO",
        "colab_type": "code",
        "colab": {}
      },
      "source": [
        ""
      ],
      "execution_count": 0,
      "outputs": []
    },
    {
      "cell_type": "markdown",
      "metadata": {
        "id": "YyP-AKNe2Fq7",
        "colab_type": "text"
      },
      "source": [
        "# Question 4B\n",
        "Print out **`name`**\n"
      ]
    },
    {
      "cell_type": "code",
      "metadata": {
        "id": "paATOHmo2cqV",
        "colab_type": "code",
        "colab": {}
      },
      "source": [
        ""
      ],
      "execution_count": 0,
      "outputs": []
    },
    {
      "cell_type": "markdown",
      "metadata": {
        "id": "PSWl20Oh3Ih0",
        "colab_type": "text"
      },
      "source": [
        "# Question 5\n",
        "Create a variable called **`sentence`** that will put the variables you made in questions 1 and 4A to create a full sentence. Add spaces if needed.\n",
        "\n",
        "Ex.) `Hi John Doe`\n"
      ]
    },
    {
      "cell_type": "code",
      "metadata": {
        "id": "L1ptWhu03g64",
        "colab_type": "code",
        "colab": {}
      },
      "source": [
        ""
      ],
      "execution_count": 0,
      "outputs": []
    },
    {
      "cell_type": "markdown",
      "metadata": {
        "id": "3Xc8nC6k3hGX",
        "colab_type": "text"
      },
      "source": [
        "# Question 6\n",
        "Print out **`sentence`**"
      ]
    },
    {
      "cell_type": "code",
      "metadata": {
        "id": "hINAC-Gx3w2R",
        "colab_type": "code",
        "colab": {}
      },
      "source": [
        ""
      ],
      "execution_count": 0,
      "outputs": []
    }
  ]
}