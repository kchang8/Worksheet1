{
  "nbformat": 4,
  "nbformat_minor": 0,
  "metadata": {
    "colab": {
      "name": "CodingTest1.ipynb",
      "provenance": [],
      "collapsed_sections": []
    },
    "kernelspec": {
      "name": "python3",
      "display_name": "Python 3"
    }
  },
  "cells": [
    {
      "cell_type": "markdown",
      "metadata": {
        "id": "NHm8HGah5o22",
        "colab_type": "text"
      },
      "source": [
        "# Question 1\n",
        "\n",
        "*Answer with yes or no.*\n",
        "\n",
        "**a.** `x = 1`, is `x` a variable?\n",
        "\n",
        "**b.** `9 = n`, is `n` a variable?\n",
        "\n",
        "**c.** Is `9 = n` written correctly? If no, how would you rewrite it?"
      ]
    },
    {
      "cell_type": "markdown",
      "metadata": {
        "id": "gqMatnok69-g",
        "colab_type": "text"
      },
      "source": [
        "**PUT YOUR ANSWERS BELOW FOR QUESTION 1:**\n",
        "\n",
        "a. \n",
        "\n",
        "b. \n",
        "\n",
        "c."
      ]
    },
    {
      "cell_type": "markdown",
      "metadata": {
        "id": "ceExlQVw7ONo",
        "colab_type": "text"
      },
      "source": [
        "# Question 2\n",
        "\n",
        "Make a program that has the variable `z` equal to `x + y` and print `z`. When you print out `z`, `z` should be `15`."
      ]
    },
    {
      "cell_type": "code",
      "metadata": {
        "id": "I8mSPAJ85lZ_",
        "colab_type": "code",
        "colab": {}
      },
      "source": [
        "# Write your code below\n",
        "\n"
      ],
      "execution_count": null,
      "outputs": []
    },
    {
      "cell_type": "markdown",
      "metadata": {
        "id": "jjG21Pqj8iiN",
        "colab_type": "text"
      },
      "source": [
        "# Question 3\n",
        "\n",
        "*Answer the questions below in complete sentences.*\n",
        "\n",
        "**a.** What does the data type, string, need to be written with?\n",
        "\n",
        "**b.** Give me two examples of strings."
      ]
    },
    {
      "cell_type": "markdown",
      "metadata": {
        "id": "OBxtL-yk9TQN",
        "colab_type": "text"
      },
      "source": [
        "**PUT YOUR ANSWERS BELOW FOR QUESTION 3:**\n",
        "\n",
        "a. \n",
        "\n",
        "b. "
      ]
    },
    {
      "cell_type": "markdown",
      "metadata": {
        "id": "KVDGR4heh9TP",
        "colab_type": "text"
      },
      "source": [
        "# Question 4\n",
        "\n",
        "*Answer the questions below in complete sentences.*\n",
        "\n",
        "**a.** What's the difference between using `input()` and `int(input())`?\n",
        "\n",
        "**b**. Which one of these will NOT give you an error?\n",
        "\n",
        "```\n",
        "num = input(\"Enter a number: \")\n",
        "answer = num + 4\n",
        "print(answer)\n",
        "```\n",
        "OR\n",
        "```\n",
        "num = int(input(\"Enter a number: \"))\n",
        "answer = num + 4\n",
        "print(answer) \n",
        "```"
      ]
    },
    {
      "cell_type": "markdown",
      "metadata": {
        "id": "GjI--qzQmJFN",
        "colab_type": "text"
      },
      "source": [
        "**PUT YOUR ANSWERS BELOW FOR QUESTION 5:**\n",
        "\n",
        "a.\n",
        "\n",
        "b. "
      ]
    },
    {
      "cell_type": "markdown",
      "metadata": {
        "id": "rgHCwD4KmX-h",
        "colab_type": "text"
      },
      "source": [
        "# Question 5\n",
        "\n",
        "Fix the code below."
      ]
    },
    {
      "cell_type": "code",
      "metadata": {
        "id": "7HNcvGEil0Fo",
        "colab_type": "code",
        "colab": {}
      },
      "source": [
        "# Make changes to the code below to make it work\n",
        "weather = input(\"How's the weather? \")\n",
        "if (weather == Rainy):\n",
        "  print(\"Make sure you bring an umbrella!\")\n",
        "  else:\n",
        "    print(\"Let's go outside!\")"
      ],
      "execution_count": null,
      "outputs": []
    },
    {
      "cell_type": "markdown",
      "metadata": {
        "id": "pwnP1U98pwbw",
        "colab_type": "text"
      },
      "source": [
        "# Question 6\n",
        "\n",
        "Make a program that asks the user, `\"Do you want to go to the beach or the park?\"`. Then check:\n",
        "\n",
        "*   If they put `\"Beach\"`, then it will show `\"Let's go swim in the ocean!\"`\n",
        "*   Else if they put `\"Park\"`, then it will show `\"Let's go play on the swings!\"`\n",
        "*   Else, it will show `\"Pick the beach or the park.\"`\n"
      ]
    },
    {
      "cell_type": "code",
      "metadata": {
        "id": "hWdC-L6OsZJ_",
        "colab_type": "code",
        "colab": {}
      },
      "source": [
        "# Write you code below\n",
        "\n"
      ],
      "execution_count": null,
      "outputs": []
    },
    {
      "cell_type": "markdown",
      "metadata": {
        "id": "cL2M607zt2n4",
        "colab_type": "text"
      },
      "source": [
        "# Question 7\n",
        "\n",
        "*Answer the question below in complete sentences.*\n",
        "\n",
        "**a.** What is the difference between using the keyword, `and`, and the keyword, `or`? Be as detailed as possible."
      ]
    },
    {
      "cell_type": "markdown",
      "metadata": {
        "id": "DAQ5ckPnuSEa",
        "colab_type": "text"
      },
      "source": [
        "**PUT YOUR ANSWER BELOW FOR QUESTION 8:**\n",
        "\n",
        "a. \n"
      ]
    },
    {
      "cell_type": "markdown",
      "metadata": {
        "id": "6FzlqAVuujuD",
        "colab_type": "text"
      },
      "source": [
        "# Question 8\n",
        "\n",
        "Write a program that shows different messages based on the weather temperature. Ask the user, `\"What is today's temperature?\"` and then check:\n",
        "\n",
        "*   If the temperature is less than or equal to 32, it will say `\"It is snowing!\"`\n",
        "*   Else if the temperature is between 33-65, it will say `\"It's a little chilly.\"`\n",
        "*   Else, it will say `\"The weather is nice outside!\"`\n"
      ]
    },
    {
      "cell_type": "code",
      "metadata": {
        "id": "8l0x6eRNtJus",
        "colab_type": "code",
        "colab": {}
      },
      "source": [
        "# Write your code below\n",
        "\n"
      ],
      "execution_count": null,
      "outputs": []
    },
    {
      "cell_type": "markdown",
      "metadata": {
        "id": "uT-FXrzE5ClD",
        "colab_type": "text"
      },
      "source": [
        "# Question 9\n",
        "\n",
        "Given the menu below, write a program using **nested if statements** to show each of the item's price from each menu. \n",
        "\n",
        "Ask the user two things, `\"Pick a menu: \"` and `\"What would you like to order? \"`. Then check each of those inputs to show them the item's price.\n"
      ]
    },
    {
      "cell_type": "code",
      "metadata": {
        "id": "wrw2DF_A546F",
        "colab_type": "code",
        "colab": {}
      },
      "source": [
        "print(\"Welcome to Python Test Restaurant!\")\n",
        "print(\"==FOOD==\")\n",
        "print(\"Hamburger............$2.00\")\n",
        "print(\"Spaghetti............$5.00\")\n",
        "print(\"==DRINKS==\")\n",
        "print(\"Lemonade.............$1.00\")\n",
        "print(\"Iced Tea.............$1.50\")\n",
        "\n",
        "# Write your code below \n",
        "\n"
      ],
      "execution_count": null,
      "outputs": []
    },
    {
      "cell_type": "markdown",
      "metadata": {
        "id": "JC876Fvi6_ng",
        "colab_type": "text"
      },
      "source": [
        "# Question 10\n",
        "\n",
        "Write a program that prints out the numbers 1-10 using a **while loop**."
      ]
    },
    {
      "cell_type": "code",
      "metadata": {
        "id": "lJU4wvkF7Sg_",
        "colab_type": "code",
        "colab": {}
      },
      "source": [
        "num = 1\n",
        "# Write your code below\n",
        "while (# PUT CODE HERE):\n",
        "  \n"
      ],
      "execution_count": null,
      "outputs": []
    },
    {
      "cell_type": "markdown",
      "metadata": {
        "id": "v5wXwYee9FvF",
        "colab_type": "text"
      },
      "source": [
        "# Question 11\n",
        "\n",
        "Explain what the code below does. Be as detailed as possible.\n",
        "\n",
        "```\n",
        "python = \"Python Coding\"\n",
        "letter = input(\"Guess a letter or word: \")\n",
        "\n",
        "if (letter in python):\n",
        "  print(letter + \" is in \" + python)\n",
        "else:\n",
        "  print(letter + \" is not in \" + python)\n",
        "```\n"
      ]
    },
    {
      "cell_type": "markdown",
      "metadata": {
        "id": "6A-wgRAx9dI6",
        "colab_type": "text"
      },
      "source": [
        "**PUT YOUR ANSWER BELOW FOR QUESTION 12:**\n",
        "\n",
        "Answer:\n",
        "\n"
      ]
    }
  ]
}