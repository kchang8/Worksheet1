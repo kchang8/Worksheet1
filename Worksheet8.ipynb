{
  "nbformat": 4,
  "nbformat_minor": 0,
  "metadata": {
    "colab": {
      "name": "Worksheet8.ipynb",
      "provenance": []
    },
    "kernelspec": {
      "name": "python3",
      "display_name": "Python 3"
    }
  },
  "cells": [
    {
      "cell_type": "markdown",
      "metadata": {
        "id": "O_1v257gQWhx",
        "colab_type": "text"
      },
      "source": [
        "# Question 1\n",
        "\n",
        "Make a variable called ``favorite_phrase`` and make it have your favorite phrase. \n",
        "\n",
        "Then make another variable called ``guess`` that gets the user's guess to your favorite phrase (they could guess a letter or a word). \n",
        "\n",
        "Compare their guess to your favorite phrase to see if their guess is in your favorite phrase.\n",
        "\n",
        "**Example output 1**:\n",
        "```\n",
        "Enter a letter or word: Hello\n",
        "Hello is not in Good Morning\n",
        "```\n",
        "**Example output 2**:\n",
        "```\n",
        "Enter a letter or word: Good\n",
        "Good is in Good Morning\n",
        "```"
      ]
    },
    {
      "cell_type": "code",
      "metadata": {
        "id": "72TGsawNQUOj",
        "colab_type": "code",
        "colab": {}
      },
      "source": [
        ""
      ],
      "execution_count": 0,
      "outputs": []
    },
    {
      "cell_type": "markdown",
      "metadata": {
        "id": "fNGDSLMLRoJE",
        "colab_type": "text"
      },
      "source": [
        "# Question 2\n",
        "\n",
        "Make a variable called ``game`` and make it ask the user for the game they want to play.\n",
        "\n",
        "Then compare a game you want to play to the game they chose.\n",
        "\n",
        "If they did not choose the game you want to play, tell them ``I want to play *the game you want to play*``. \n",
        "\n",
        "Else, tell them ``Let's go play!``"
      ]
    },
    {
      "cell_type": "code",
      "metadata": {
        "id": "YUHQWPVzTgyu",
        "colab_type": "code",
        "colab": {}
      },
      "source": [
        ""
      ],
      "execution_count": 0,
      "outputs": []
    }
  ]
}