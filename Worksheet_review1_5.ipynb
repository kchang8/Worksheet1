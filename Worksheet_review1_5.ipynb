{
  "nbformat": 4,
  "nbformat_minor": 0,
  "metadata": {
    "colab": {
      "name": "Worksheet_review1-5",
      "provenance": [],
      "collapsed_sections": []
    },
    "kernelspec": {
      "name": "python3",
      "display_name": "Python 3"
    }
  },
  "cells": [
    {
      "cell_type": "markdown",
      "metadata": {
        "id": "u5pNRMMtrKjX",
        "colab_type": "text"
      },
      "source": [
        "# Question 1\n",
        "Make a variable called **``x``** that has the value 8. Then print out the `x` to confirm that it has the correct value"
      ]
    },
    {
      "cell_type": "code",
      "metadata": {
        "id": "XoaglU4sqF6H",
        "colab_type": "code",
        "colab": {}
      },
      "source": [
        ""
      ],
      "execution_count": 0,
      "outputs": []
    },
    {
      "cell_type": "markdown",
      "metadata": {
        "id": "FBDILNITrdfu",
        "colab_type": "text"
      },
      "source": [
        "# Question 2\n",
        "Make a variable called **``greeting``** that has the string, ``Hello``.\n",
        "Then print out the **`greeting`** to confirm that it says what you want it to say."
      ]
    },
    {
      "cell_type": "code",
      "metadata": {
        "id": "MX7JgwA_r7qs",
        "colab_type": "code",
        "colab": {}
      },
      "source": [
        ""
      ],
      "execution_count": 0,
      "outputs": []
    },
    {
      "cell_type": "markdown",
      "metadata": {
        "id": "0lzaJi2nsMQx",
        "colab_type": "text"
      },
      "source": [
        "# Question 3\n",
        "Using the variable you made from question 1, add 5 to the variable and print out the answer. **Note**: You can make a new variable that has the answer to the math equation or you can just print out the math equation.\n"
      ]
    },
    {
      "cell_type": "code",
      "metadata": {
        "id": "aT2CwWZls1j4",
        "colab_type": "code",
        "colab": {}
      },
      "source": [
        ""
      ],
      "execution_count": 0,
      "outputs": []
    },
    {
      "cell_type": "markdown",
      "metadata": {
        "id": "HcYUUQWQs4if",
        "colab_type": "text"
      },
      "source": [
        "# Question 4\n",
        "\n",
        "Using the variable you made from question 2, complete the code below to print out the sentence, ``Hello everyone!``."
      ]
    },
    {
      "cell_type": "code",
      "metadata": {
        "id": "UO85lLL_tM1Z",
        "colab_type": "code",
        "colab": {}
      },
      "source": [
        "everyone = \" everyone!\"\n",
        "# Write your code below\n"
      ],
      "execution_count": 0,
      "outputs": []
    },
    {
      "cell_type": "markdown",
      "metadata": {
        "id": "GlqAsKqauF9g",
        "colab_type": "text"
      },
      "source": [
        "# Question 5\n",
        "Make an addition calculator program\n",
        "\n",
        "Steps:\n",
        "1.   Make a variable called `number1` and give it your 1st favorite number\n",
        "2.   Make a variable called `number2` and give it your  2nd favorite number\n",
        "3.   Make a variable called `sum` and give it the sum of both numbers\n",
        "4.   Print out the sum\n",
        "\n",
        "Then:\n",
        "\n",
        "Replace `number1` and `number2` with your 3rd and 4th favorite numbers and see if the program you wrote works for those numbers!\n",
        "\n",
        "\n",
        "\n"
      ]
    },
    {
      "cell_type": "code",
      "metadata": {
        "id": "lAc3vpAzuysp",
        "colab_type": "code",
        "colab": {}
      },
      "source": [
        ""
      ],
      "execution_count": 0,
      "outputs": []
    },
    {
      "cell_type": "markdown",
      "metadata": {
        "id": "3WjEZhtnywqh",
        "colab_type": "text"
      },
      "source": [
        "# Question 6\n",
        "\n",
        "Make a variable called ```favorite_string``` that has your favorite word in it.\n",
        "\n",
        "Then make another variable that will take in a word from the user.\n",
        "\n",
        "Then tell the user if that word is your favorite word or not.\n",
        "\n",
        "Example output 1 \n",
        "```\n",
        "Please enter a string: Python\n",
        "Sorry, that isnt my favorite word.\n",
        "```\n",
        "Example output 2\n",
        "```\n",
        "Please enter a string: Hamburger\n",
        "Hey, thats my favorite word!\n",
        "```\n"
      ]
    },
    {
      "cell_type": "code",
      "metadata": {
        "id": "EDFgp7HHywwc",
        "colab_type": "code",
        "colab": {}
      },
      "source": [
        ""
      ],
      "execution_count": 0,
      "outputs": []
    },
    {
      "cell_type": "markdown",
      "metadata": {
        "id": "UEMS6txo6n1H",
        "colab_type": "text"
      },
      "source": [
        "# Question 7\n",
        "\n",
        "Make a variable called ``num`` that lets the user enter a number. \n",
        "\n",
        "Then make a program that will check the entered number to see if it is a positive or negative number. \n",
        "\n",
        "If the number is 0, tell the user that the number is 0. \n",
        "\n",
        "**Note**: Positive numbers are greater than 0 and negative numbers are less than 0\n",
        "\n",
        "Example output 1:\n",
        "```\n",
        "Enter a number: 60\n",
        "This is a positive number\n",
        "```\n",
        "\n",
        "Example output 2:\n",
        "```\n",
        "Enter a number: -9\n",
        "This is a negative number\n",
        "```\n",
        "\n",
        "Example output 3:\n",
        "```\n",
        "Enter a number: 0\n",
        "The number is 0\n",
        "```"
      ]
    },
    {
      "cell_type": "code",
      "metadata": {
        "id": "uoadBoRT7jzm",
        "colab_type": "code",
        "colab": {}
      },
      "source": [
        ""
      ],
      "execution_count": 0,
      "outputs": []
    },
    {
      "cell_type": "markdown",
      "metadata": {
        "id": "IcWs_rIcvjxq",
        "colab_type": "text"
      },
      "source": [
        "# Question 8\n",
        "Below we have written a few print statements that will output a menu.\n",
        "get the user's input and tell them how much their item will cost.\n",
        "\n",
        "Apples - $1\n",
        "\n",
        "Bananas - $1.50\n",
        "\n",
        "Carrot - $1.25\n",
        "\n",
        "Donuts - $10"
      ]
    },
    {
      "cell_type": "code",
      "metadata": {
        "id": "xtdpLde6vjhc",
        "colab_type": "code",
        "colab": {}
      },
      "source": [
        "print(\"Welcome to Python-mart\")\n",
        "print(\"Here is everything we have on the menu:\")\n",
        "print(\"a - Apple\")\n",
        "print(\"b - Banana\")\n",
        "print(\"c - Carrot\")\n",
        "print(\"d - Donuts\")\n",
        "choice = input(\"What would you like to buy?\")\n",
        "#Here a bit of code to help you get started\n",
        "if(choice == \"a\"):\n",
        " print(\"An apple will cost you $1\")"
      ],
      "execution_count": 0,
      "outputs": []
    }
  ]
}