{
  "nbformat": 4,
  "nbformat_minor": 0,
  "metadata": {
    "colab": {
      "name": "Worksheet1&2_Review.ipynb",
      "provenance": [],
      "collapsed_sections": []
    },
    "kernelspec": {
      "name": "python3",
      "display_name": "Python 3"
    }
  },
  "cells": [
    {
      "cell_type": "markdown",
      "metadata": {
        "id": "u5pNRMMtrKjX",
        "colab_type": "text"
      },
      "source": [
        "# Question 1\n",
        "Make a variable called **``x``** that has the value 8."
      ]
    },
    {
      "cell_type": "code",
      "metadata": {
        "id": "XoaglU4sqF6H",
        "colab_type": "code",
        "colab": {}
      },
      "source": [
        ""
      ],
      "execution_count": 0,
      "outputs": []
    },
    {
      "cell_type": "markdown",
      "metadata": {
        "id": "FBDILNITrdfu",
        "colab_type": "text"
      },
      "source": [
        "# Question 2\n",
        "Make a variable called **``greeting``** that has the string, ``Hello``."
      ]
    },
    {
      "cell_type": "code",
      "metadata": {
        "id": "MX7JgwA_r7qs",
        "colab_type": "code",
        "colab": {}
      },
      "source": [
        ""
      ],
      "execution_count": 0,
      "outputs": []
    },
    {
      "cell_type": "markdown",
      "metadata": {
        "id": "0lzaJi2nsMQx",
        "colab_type": "text"
      },
      "source": [
        "# Question 3\n",
        "Using the variable you made from question 1, add 5 to the variable and print out the answer. **Note**: You can make a new variable that has the answer to the math equation or you can just print out the math equation.\n"
      ]
    },
    {
      "cell_type": "code",
      "metadata": {
        "id": "aT2CwWZls1j4",
        "colab_type": "code",
        "colab": {}
      },
      "source": [
        ""
      ],
      "execution_count": 0,
      "outputs": []
    },
    {
      "cell_type": "markdown",
      "metadata": {
        "id": "_PA3d4T1t2-F",
        "colab_type": "text"
      },
      "source": [
        "# Question 4\n",
        "Print the sentence, ``Python is fun!``."
      ]
    },
    {
      "cell_type": "code",
      "metadata": {
        "id": "QV5FXXSBt_ff",
        "colab_type": "code",
        "colab": {}
      },
      "source": [
        ""
      ],
      "execution_count": 0,
      "outputs": []
    },
    {
      "cell_type": "markdown",
      "metadata": {
        "id": "HcYUUQWQs4if",
        "colab_type": "text"
      },
      "source": [
        "# Question 5\n",
        "Using the variable you made from question 2, complete the code below to print out the sentence, ``Hello everyone!``."
      ]
    },
    {
      "cell_type": "code",
      "metadata": {
        "id": "UO85lLL_tM1Z",
        "colab_type": "code",
        "colab": {}
      },
      "source": [
        "everyone = \" everyone!\"\n",
        "# Write your code below\n"
      ],
      "execution_count": 0,
      "outputs": []
    },
    {
      "cell_type": "markdown",
      "metadata": {
        "id": "GlqAsKqauF9g",
        "colab_type": "text"
      },
      "source": [
        "# Question 6\n",
        "**Challenge Question:**\n",
        "Make an addition calculator program\n",
        "\n",
        "Steps:\n",
        "1.   Make a variable called `number1` and give it your 1st favorite number\n",
        "2.   Make a variable called `number2` and give it your  2nd favorite number\n",
        "3.   Make a variable called `sum` and give it the sum of both numbers\n",
        "4.   Print out the sum\n",
        "\n",
        "Then:\n",
        "\n",
        "Replace `number1` and `number2` with your 3rd and 4th favorite numbers and see if the program you wrote works for those numbers!\n",
        "\n",
        "\n",
        "\n"
      ]
    },
    {
      "cell_type": "code",
      "metadata": {
        "id": "lAc3vpAzuysp",
        "colab_type": "code",
        "colab": {}
      },
      "source": [
        ""
      ],
      "execution_count": 0,
      "outputs": []
    }
  ]
}