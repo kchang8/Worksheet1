{
  "nbformat": 4,
  "nbformat_minor": 0,
  "metadata": {
    "colab": {
      "name": "Worksheet1&2_Review(pt.2).ipynb",
      "provenance": [],
      "collapsed_sections": []
    },
    "kernelspec": {
      "name": "python3",
      "display_name": "Python 3"
    }
  },
  "cells": [
    {
      "cell_type": "markdown",
      "metadata": {
        "id": "CNz6Oqu_ivMy"
      },
      "source": [
        "# Question 1\n",
        "\n",
        "Using the print function, `print()`, how do you print out the phrase `\"Hello World!\"`?"
      ]
    },
    {
      "cell_type": "code",
      "metadata": {
        "id": "D_LH1dZ3ioo1"
      },
      "source": [
        "# write code below\n"
      ],
      "execution_count": null,
      "outputs": []
    },
    {
      "cell_type": "markdown",
      "metadata": {
        "id": "85BFFJdGkL23"
      },
      "source": [
        "# Question 2\n",
        "\n",
        "**Answer the following as best as you can**:\n",
        "\n",
        "*   What is a variable? You can even draw a picture if you want and show me!\n",
        "*   Come up with two examples of variables. Make one of them have a number and the other one a word/sentence.\n"
      ]
    },
    {
      "cell_type": "markdown",
      "metadata": {
        "id": "8SYEgVsQk-FC"
      },
      "source": [
        "**Write your answer for question 2 below here:**\n",
        "\n",
        "\n"
      ]
    },
    {
      "cell_type": "markdown",
      "metadata": {
        "id": "EZ5TSDFelJWx"
      },
      "source": [
        "# Question 3\n",
        "\n",
        "Change the `x` and `y` variables so that `z` is 28."
      ]
    },
    {
      "cell_type": "code",
      "metadata": {
        "id": "Nt6wWwnelrXT"
      },
      "source": [
        "# make changes to the two lines below\n",
        "x = -1\n",
        "y = -5\n",
        "\n",
        "####### DO NOT WRITE CODE HERE #################\n",
        "z = x + y\n",
        "print(z)\n",
        "####### DO NOT WRITE CODE HERE #################"
      ],
      "execution_count": null,
      "outputs": []
    },
    {
      "cell_type": "markdown",
      "metadata": {
        "id": "rFB0CNUNmA1H"
      },
      "source": [
        "# Question 4\n",
        "\n",
        " Make a variable called `greeting` and make it have a greeting word. Print out your greeting.\n",
        " \n",
        "Example greeting words: `Hi`, `Hello`, `Greetings`, etc.\n",
        "\n",
        " **Hint**: Remember words/sentences are strings and strings need to have double quotation marks (\").\n"
      ]
    },
    {
      "cell_type": "code",
      "metadata": {
        "id": "hMByim6RmdBn"
      },
      "source": [
        "# write your code below\n",
        "\n"
      ],
      "execution_count": null,
      "outputs": []
    },
    {
      "cell_type": "markdown",
      "metadata": {
        "id": "shp-EkPBmvy0"
      },
      "source": [
        "# Question 5\n",
        "\n",
        "Make a variable called `name` and make it have your name, friend's name, or family member name. Print out the name.\n"
      ]
    },
    {
      "cell_type": "code",
      "metadata": {
        "id": "tNJiXOdCm-mT"
      },
      "source": [
        "# write your code below\n",
        "\n"
      ],
      "execution_count": null,
      "outputs": []
    },
    {
      "cell_type": "markdown",
      "metadata": {
        "id": "QkTl0i6RnAZQ"
      },
      "source": [
        "# Question 6\n",
        "\n",
        "Make a variable called `sentence` and make it have the full greeting sentence using the `greeting` variable and the `name` variable you made from questions 3 and 4. \n",
        "\n",
        "**Hint**: Remember you can put strings together using the plus sign (+)"
      ]
    },
    {
      "cell_type": "code",
      "metadata": {
        "id": "tJYMSy5vnclX"
      },
      "source": [
        "# write your code below\n",
        "\n"
      ],
      "execution_count": null,
      "outputs": []
    },
    {
      "cell_type": "markdown",
      "metadata": {
        "id": "GWIVA-qEn3zX"
      },
      "source": [
        "# Question 7\n",
        "\n",
        "Print out `sentence`."
      ]
    },
    {
      "cell_type": "code",
      "metadata": {
        "id": "LQ7LcoRYn3Ku"
      },
      "source": [
        "# write your code below\n",
        "\n"
      ],
      "execution_count": null,
      "outputs": []
    }
  ]
}