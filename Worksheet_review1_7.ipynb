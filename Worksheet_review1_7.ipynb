{
  "nbformat": 4,
  "nbformat_minor": 0,
  "metadata": {
    "colab": {
      "name": "Worksheet_review1-7.ipynb",
      "provenance": []
    },
    "kernelspec": {
      "name": "python3",
      "display_name": "Python 3"
    }
  },
  "cells": [
    {
      "cell_type": "markdown",
      "metadata": {
        "id": "qXIMU01yWpdg",
        "colab_type": "text"
      },
      "source": [
        "# Question 1\n",
        "\n",
        "Make a variable called ``a`` that has the value 10. Then print out ``a`` to make sure that it has the correct value."
      ]
    },
    {
      "cell_type": "code",
      "metadata": {
        "id": "qfuxT3GHWZwY",
        "colab_type": "code",
        "colab": {}
      },
      "source": [
        ""
      ],
      "execution_count": 0,
      "outputs": []
    },
    {
      "cell_type": "markdown",
      "metadata": {
        "id": "0DAMZVHFW5rw",
        "colab_type": "text"
      },
      "source": [
        "# Question 2\n",
        "\n",
        "Make a variable called **``greeting``** that has the string, ``Hi``. Then print **``greeting``** to make sure that it has the right string."
      ]
    },
    {
      "cell_type": "code",
      "metadata": {
        "id": "a0o45tuYXFPi",
        "colab_type": "code",
        "colab": {}
      },
      "source": [
        ""
      ],
      "execution_count": 0,
      "outputs": []
    },
    {
      "cell_type": "markdown",
      "metadata": {
        "id": "ZKgzXzFBXEp6",
        "colab_type": "text"
      },
      "source": [
        "# Question 3\n",
        "\n",
        "Using the variable you made from question 1, add 20 to the variable and print out the answer.\n",
        "\n",
        "**Note**: You can make a new variable that has the answer to the math equation or you can just print out the math equation."
      ]
    },
    {
      "cell_type": "code",
      "metadata": {
        "id": "oJhJId9SXeLZ",
        "colab_type": "code",
        "colab": {}
      },
      "source": [
        ""
      ],
      "execution_count": 0,
      "outputs": []
    },
    {
      "cell_type": "markdown",
      "metadata": {
        "id": "mr4u-2rcXfSz",
        "colab_type": "text"
      },
      "source": [
        "# Question 4\n",
        "\n",
        "Using the variable you made from question 2, complete the code below to print out the sentence, ``Hi there!``"
      ]
    },
    {
      "cell_type": "code",
      "metadata": {
        "id": "_Pbv1Gb0X99e",
        "colab_type": "code",
        "colab": {}
      },
      "source": [
        "there = \" there!\"\n",
        "# Write your code below\n"
      ],
      "execution_count": 0,
      "outputs": []
    },
    {
      "cell_type": "markdown",
      "metadata": {
        "id": "YixYO-qZX7Gq",
        "colab_type": "text"
      },
      "source": [
        "# Question 5\n",
        "\n",
        "Make a variable called ``name`` that asks the user for their name. Then use that variable to make the sentence, ``Hello, nice to meet you <entered name>!``"
      ]
    },
    {
      "cell_type": "code",
      "metadata": {
        "id": "GBvc5HnvYrG6",
        "colab_type": "code",
        "colab": {}
      },
      "source": [
        ""
      ],
      "execution_count": 0,
      "outputs": []
    },
    {
      "cell_type": "markdown",
      "metadata": {
        "id": "mMA2e2IFYtXC",
        "colab_type": "text"
      },
      "source": [
        "# Question 6\n",
        "\n",
        "Make a subtraction calculator program\n",
        "\n",
        "Steps:\n",
        "\n",
        "1. Make a variable called ``num1`` and give it your 1st favorite number\n",
        "2. Make a variable called ``num2`` and give it your 2nd favorite number\n",
        "3. Make a variable called ``diff`` and give it the difference of both numbers\n",
        "4. Print out the ``diff``"
      ]
    },
    {
      "cell_type": "code",
      "metadata": {
        "id": "ZFGJBEbtZGRB",
        "colab_type": "code",
        "colab": {}
      },
      "source": [
        ""
      ],
      "execution_count": 0,
      "outputs": []
    },
    {
      "cell_type": "markdown",
      "metadata": {
        "id": "U8fnzf_uZKC0",
        "colab_type": "text"
      },
      "source": [
        "# Question 7\n",
        "\n",
        "Make a variable called ``num`` that lets the user enter a number.\n",
        "\n",
        "Then make a program that will check the entered number to see if it is a positive or negative number.\n",
        "\n",
        "If the number is 0, tell the user that the number is 0.\n",
        "\n",
        "**Note**: Positive numbers are greater than 0 and negative numbers are less than 0\n",
        "\n",
        "\n",
        "Example output 1:\n",
        "```\n",
        "Enter a number: 60\n",
        "This is a positive number\n",
        "```\n",
        "Example output 2:\n",
        "```\n",
        "Enter a number: -9\n",
        "This is a negative number\n",
        "```\n",
        "Example output 3:\n",
        "```\n",
        "Enter a number: 0\n",
        "The number is 0\n",
        "```"
      ]
    },
    {
      "cell_type": "code",
      "metadata": {
        "id": "Scc3346kaDbE",
        "colab_type": "code",
        "colab": {}
      },
      "source": [
        ""
      ],
      "execution_count": 0,
      "outputs": []
    },
    {
      "cell_type": "markdown",
      "metadata": {
        "id": "tnFtPH_paGe8",
        "colab_type": "text"
      },
      "source": [
        "# Question 8\n",
        "\n",
        "Make a variable called ``age`` that gets the user's age.\n",
        "\n",
        "Then check their entered age so that:\n",
        "\n",
        "*   If age is less than or equal to 12, print out ``You are a kid``\n",
        "*   Else if age is between 13-19, print out ``You are a teenager``\n",
        "*   Else, print out ``You are an adult``"
      ]
    },
    {
      "cell_type": "code",
      "metadata": {
        "id": "VdSK_iMRao07",
        "colab_type": "code",
        "colab": {}
      },
      "source": [
        ""
      ],
      "execution_count": 0,
      "outputs": []
    },
    {
      "cell_type": "markdown",
      "metadata": {
        "id": "JpyMY-QJar9q",
        "colab_type": "text"
      },
      "source": [
        "# Question 9\n",
        "\n",
        "Below we have two menus: Food and Desserts.\n",
        "\n",
        "Food:\n",
        "\n",
        "*   Hotdog - $1.00\n",
        "\n",
        "*   Spaghetti - $2.50\n",
        "\n",
        "Desserts:\n",
        "\n",
        "*   Ice cream - $0.50\n",
        "\n",
        "*   Cake - $2.00\n",
        "\n",
        "Make a variable called ``menu`` that gets the user menu they want. Complete the code below to print the appropriate messages for each item on both menus."
      ]
    },
    {
      "cell_type": "code",
      "metadata": {
        "id": "68KPBdxwbZ1E",
        "colab_type": "code",
        "colab": {}
      },
      "source": [
        "print(\"Welcome to Python-restaurant\")\n",
        "print(\"FOOD\")\n",
        "print(\"   Hotdog - $1.00\")\n",
        "print(\"   Spaghetti - $2.50\")\n",
        "print(\"DESSERTS\")\n",
        "print(\"   Ice cream - $0.50\")\n",
        "print(\"   Cake - $2.00\")\n",
        "print(\"Pick a menu: \")\n",
        "\n",
        "# Write the menu variable below here\n",
        "\n",
        "\n",
        "choice = input(\"What would you like to order? \")\n",
        "# Here's a little starter code for you to get started\n",
        "if(menu == \"Food\"):\n",
        "  if(choice == \"Hotdog\"):\n",
        "    print(\"Hotdog will cost you $1.00\")\n",
        "  "
      ],
      "execution_count": 0,
      "outputs": []
    },
    {
      "cell_type": "markdown",
      "metadata": {
        "id": "reSsODWRb0AO",
        "colab_type": "text"
      },
      "source": [
        "# Question 10\n",
        "\n",
        "Given the code below, complete the simple guessing game with a while loop that:\n",
        "\n",
        "*   Loops through the while loop if the user's guess is not equal to the answer\n",
        "*   Lets the user know their guessed number is wrong\n",
        "*   Prints an error if their guessed number is greater than 20 or less than 1\n",
        "*   Lets them guess another number\n",
        "\n",
        "If they get the answer right the first time or if they guessed correctly, print out ``You got it right!``"
      ]
    },
    {
      "cell_type": "code",
      "metadata": {
        "id": "cj3UTKCscQg8",
        "colab_type": "code",
        "colab": {}
      },
      "source": [
        "# Here's a little starter code\n",
        "answer = 10\n",
        "guess = int(input(\"Guess a number(1-20): \"))\n",
        "while (# PUT CODE HERE):\n",
        "  # Complete the code below\n",
        "  \n"
      ],
      "execution_count": 0,
      "outputs": []
    }
  ]
}