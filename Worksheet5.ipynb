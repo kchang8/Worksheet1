{
  "nbformat": 4,
  "nbformat_minor": 0,
  "metadata": {
    "colab": {
      "name": "Worksheet5.ipynb",
      "provenance": [],
      "collapsed_sections": []
    },
    "kernelspec": {
      "name": "python3",
      "display_name": "Python 3"
    }
  },
  "cells": [
    {
      "cell_type": "markdown",
      "metadata": {
        "id": "DORUHN4eh8np",
        "colab_type": "text"
      },
      "source": [
        "# Question 1 Burger Town\n",
        "Print out a statement thanking them for their order.\n",
        "\n",
        "If they choose to order a Burger say something like. \n",
        "\n",
        "\n",
        "\"Thank you, here is your Burger\n",
        "\n"
      ]
    },
    {
      "cell_type": "code",
      "metadata": {
        "id": "A_z0tXx-h8t9",
        "colab_type": "code",
        "colab": {}
      },
      "source": [
        "print(\"Welcome to Burger Town\")\n",
        "print(\"Here is the menu:\")\n",
        "print(\"A - Burger\")\n",
        "print(\"B - Hotdog\")\n",
        "print(\"C - Pizza\")\n",
        "print(\"D - Soda\")\n",
        "\n",
        "choice = input(\"What do you want to order?\")\n",
        "#Write your code below\n"
      ],
      "execution_count": 0,
      "outputs": []
    },
    {
      "cell_type": "markdown",
      "metadata": {
        "id": "3Ygu4w6ih8z3",
        "colab_type": "text"
      },
      "source": [
        "# Question 2\n",
        "Print out the price of a movie ticket based on their age.\n",
        "\n",
        "Children  Tickets are $5 are ages 0-12\n",
        "\n",
        "Teenager tickets are $10 are ages 13-20\n",
        "\n",
        "Adult tickets are $15  are ages 21-64\n",
        "\n",
        "Seniors tickets are $12 are 64 and older"
      ]
    },
    {
      "cell_type": "code",
      "metadata": {
        "id": "cYQMwhPph88i",
        "colab_type": "code",
        "colab": {}
      },
      "source": [
        "print(\"Welcome to the movies\")\n",
        "\n",
        "\n",
        "age = #Write the right input statement here\n",
        "\n",
        "#Write the if-elif statement that will output the ticket price for each age.\n",
        "#Here is a little starter\n",
        "if(age <= 12):\n",
        "  print( \"Your ticket will cost you $5\")\n"
      ],
      "execution_count": 0,
      "outputs": []
    }
  ]
}