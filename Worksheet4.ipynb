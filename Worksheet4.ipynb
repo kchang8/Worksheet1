{
  "nbformat": 4,
  "nbformat_minor": 0,
  "metadata": {
    "colab": {
      "name": "Worksheet4.ipynb",
      "provenance": [],
      "collapsed_sections": []
    },
    "kernelspec": {
      "name": "python3",
      "display_name": "Python 3"
    }
  },
  "cells": [
    {
      "cell_type": "markdown",
      "metadata": {
        "id": "nyTR_0HnvQXW",
        "colab_type": "text"
      },
      "source": [
        "# Question 1\n",
        "Complete the program using the if statement so that when you type in ``\"yes\"`` as your entered ``response``, it will print out ``\"Wear a mask\"``"
      ]
    },
    {
      "cell_type": "code",
      "metadata": {
        "id": "Mu6Gy8fTvZf0",
        "colab_type": "code",
        "colab": {}
      },
      "source": [
        "response = input(\"Are you going out today? \")\n",
        "# Write your code below\n",
        "\n",
        "\n"
      ],
      "execution_count": 0,
      "outputs": []
    },
    {
      "cell_type": "markdown",
      "metadata": {
        "id": "5dkZOceAvgKc",
        "colab_type": "text"
      },
      "source": [
        "# Question 2\n",
        "Complete the if-else statement condition so that it will print out the appropriate messages\n",
        "\n"
      ]
    },
    {
      "cell_type": "code",
      "metadata": {
        "id": "autTbQ71xLa8",
        "colab_type": "code",
        "colab": {}
      },
      "source": [
        "response = input(\"Is it morning? \")\n",
        "if(# PUT YOUR CODE HERE):\n",
        "  print(\"Good Morning\")\n",
        "else:\n",
        "  print(\"Good Night\")"
      ],
      "execution_count": 0,
      "outputs": []
    },
    {
      "cell_type": "markdown",
      "metadata": {
        "id": "FYT6hapXwjHd",
        "colab_type": "text"
      },
      "source": [
        "# Question 3\n",
        "Write a program so that: \n",
        "\n",
        "*   If you are thirsty, then offer them a drink\n",
        "*   If you are hungry, then offer them some food\n",
        "*   If you are tired, then tell them to go to sleep\n",
        "\n"
      ]
    },
    {
      "cell_type": "code",
      "metadata": {
        "id": "FPuOvLLHwjQZ",
        "colab_type": "code",
        "colab": {}
      },
      "source": [
        "response = input(\"Are you thirsty, hungry, or tired? \")\n",
        "# Write your code below"
      ],
      "execution_count": 0,
      "outputs": []
    }
  ]
}