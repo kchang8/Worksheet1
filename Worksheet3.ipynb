{
  "nbformat": 4,
  "nbformat_minor": 0,
  "metadata": {
    "colab": {
      "name": "Worksheet3.ipynb",
      "provenance": [],
      "collapsed_sections": []
    },
    "kernelspec": {
      "name": "python3",
      "display_name": "Python 3"
    }
  },
  "cells": [
    {
      "cell_type": "markdown",
      "metadata": {
        "id": "-OZCNl-R26Cf",
        "colab_type": "text"
      },
      "source": [
        "# Question 1\n",
        "Complete the code below\n",
        "\n",
        "Ask the user for their name, then print their name with some kind of greeting.\n",
        "\n",
        "Ex.) `Hello Chris`"
      ]
    },
    {
      "cell_type": "code",
      "metadata": {
        "id": "H9cDXPIX2SIm",
        "colab_type": "code",
        "colab": {}
      },
      "source": [
        "# Add code below to get the name from the user\n",
        "name = \n",
        "\n",
        "# Insert your greeting here\n",
        "greeting = \"\" \n",
        "\n",
        "# Complete the code below to complete the greeting using the variables above\n",
        "print() "
      ],
      "execution_count": 0,
      "outputs": []
    },
    {
      "cell_type": "markdown",
      "metadata": {
        "id": "KLq7fGOY3iyJ",
        "colab_type": "text"
      },
      "source": [
        "# Question 2A\n",
        "\n",
        "Ask the user for today's day of the week (ex: Thursday) using the variable `day`"
      ]
    },
    {
      "cell_type": "code",
      "metadata": {
        "id": "vTHhThXQ4EMg",
        "colab_type": "code",
        "colab": {}
      },
      "source": [
        "# Add code here to get the day of the week\n",
        "day = "
      ],
      "execution_count": 0,
      "outputs": []
    },
    {
      "cell_type": "markdown",
      "metadata": {
        "id": "Ws7vzlFw5glT",
        "colab_type": "text"
      },
      "source": [
        "# Question 2B\n",
        "Then ask the user for today's weather (ex: sunny,  rainy, or cloudy) using the variable `weather`\n"
      ]
    },
    {
      "cell_type": "code",
      "metadata": {
        "id": "cRSQItsK5yKo",
        "colab_type": "code",
        "colab": {}
      },
      "source": [
        "# Add code below to get today's weather\n",
        "weather = "
      ],
      "execution_count": 0,
      "outputs": []
    },
    {
      "cell_type": "markdown",
      "metadata": {
        "id": "9HpiJFHJ6DOG",
        "colab_type": "text"
      },
      "source": [
        "# Question 2C\n",
        "Complete the string variable `sentence` to make `It is *weather input* on *day input*` using the variables you made from questions 2A and 2B."
      ]
    },
    {
      "cell_type": "code",
      "metadata": {
        "id": "RSfYHTOD6b2Q",
        "colab_type": "code",
        "colab": {}
      },
      "source": [
        "sentence = "
      ],
      "execution_count": 0,
      "outputs": []
    },
    {
      "cell_type": "markdown",
      "metadata": {
        "id": "AR9NuKHo7FNu",
        "colab_type": "text"
      },
      "source": [
        "# Question 2D\n",
        "Print out `sentence`"
      ]
    },
    {
      "cell_type": "code",
      "metadata": {
        "id": "JVRVLcvf7NwQ",
        "colab_type": "code",
        "colab": {}
      },
      "source": [
        ""
      ],
      "execution_count": 0,
      "outputs": []
    },
    {
      "cell_type": "markdown",
      "metadata": {
        "id": "87wFP3hg70hL",
        "colab_type": "text"
      },
      "source": [
        "# Question 3\n",
        "Ask the user for two numbers using `num1` and `num2`, make the variable `sum` the addition of the two entered numbers, and print `sum`."
      ]
    },
    {
      "cell_type": "code",
      "metadata": {
        "id": "7edx5Weu75xg",
        "colab_type": "code",
        "colab": {}
      },
      "source": [
        ""
      ],
      "execution_count": 0,
      "outputs": []
    }
  ]
}