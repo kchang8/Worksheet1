{
  "nbformat": 4,
  "nbformat_minor": 0,
  "metadata": {
    "colab": {
      "name": "Worksheet1.ipynb",
      "provenance": [],
      "collapsed_sections": []
    },
    "kernelspec": {
      "name": "python3",
      "display_name": "Python 3"
    }
  },
  "cells": [
    {
      "cell_type": "markdown",
      "metadata": {
        "id": "M_Co9cu0m0-q",
        "colab_type": "text"
      },
      "source": [
        "#  Question 1\n",
        "Change the **x** and **y** variable values so that **z** is 9."
      ]
    },
    {
      "cell_type": "code",
      "metadata": {
        "id": "3IaKePgUmrwh",
        "colab_type": "code",
        "colab": {}
      },
      "source": [
        "# make changes to the 2 lines below\n",
        "x=-1\n",
        "y=-1\n",
        "\n",
        "####### DO NOT WRITE CODE HERE #################\n",
        "z=x+y\n",
        "print(z)\n",
        "####### DO NOT WRITE CODE HERE #################"
      ],
      "execution_count": 0,
      "outputs": []
    },
    {
      "cell_type": "markdown",
      "metadata": {
        "id": "tULfM76wqo_B",
        "colab_type": "text"
      },
      "source": [
        "# Question 2\n",
        "Change the values so that ```print(z)``` prints out the the number ```10```\n"
      ]
    },
    {
      "cell_type": "code",
      "metadata": {
        "id": "x0SZIdfbqx0y",
        "colab_type": "code",
        "colab": {}
      },
      "source": [
        "# Make changes to the 2 lines below\n",
        "x=-1\n",
        "y=-1\n",
        "\n",
        "####### DO NOT WRITE CODE HERE #################\n",
        "# This is a subtraction problem\n",
        "z=x-y\n",
        "print(z)\n",
        "####### DO NOT WRITE CODE HERE #################"
      ],
      "execution_count": 0,
      "outputs": []
    },
    {
      "cell_type": "markdown",
      "metadata": {
        "id": "26aWEO35q-fu",
        "colab_type": "text"
      },
      "source": [
        "# Question 3\n",
        "Given the following variables\n",
        "write an equation so that **c** gets the value 15"
      ]
    },
    {
      "cell_type": "code",
      "metadata": {
        "colab_type": "code",
        "id": "kju162L8rmYu",
        "colab": {}
      },
      "source": [
        "a = 10\n",
        "b = 5\n",
        "#Write your code below this line!\n",
        "\n",
        "\n",
        "###### DO NOT WRITE CODE HERE #######\n",
        "print(c)\n",
        "###### DO NOT WRITE CODE HERE ######"
      ],
      "execution_count": 0,
      "outputs": []
    },
    {
      "cell_type": "markdown",
      "metadata": {
        "id": "ZdeddXcLN3dk",
        "colab_type": "text"
      },
      "source": [
        "# Question 4\n",
        "Given the variable ```p = 10```, make ```q``` have the value of 20\n",
        "\n",
        "\n",
        "\n"
      ]
    },
    {
      "cell_type": "code",
      "metadata": {
        "id": "z4mheB8sOHV8",
        "colab_type": "code",
        "colab": {}
      },
      "source": [
        "p = 10\n",
        "#Write your code below this line!\n",
        "\n",
        "\n",
        "###### DO NOT WRITE CODE HERE ######\n",
        "print(q)\n",
        "###### DO NOT WRITE CODE HERE ######"
      ],
      "execution_count": 0,
      "outputs": []
    },
    {
      "cell_type": "markdown",
      "metadata": {
        "id": "2YEc7QFrNgXN",
        "colab_type": "text"
      },
      "source": [
        "# Question 5\n",
        "\n",
        "Given the following variables\n",
        "write an equation so that **f** gets the value 20. Make changes to **d** and **e** if needed.\n"
      ]
    },
    {
      "cell_type": "code",
      "metadata": {
        "id": "tPV8twNNNthD",
        "colab_type": "code",
        "colab": {}
      },
      "source": [
        "d = 10\n",
        "e = 5\n",
        "#Write your code below this line!\n",
        "\n",
        "\n",
        "###### DO NOT WRITE CODE HERE ######\n",
        "print(f)\n",
        "###### DO NOT WRITE CODE HERE ######"
      ],
      "execution_count": 0,
      "outputs": []
    }
  ]
}